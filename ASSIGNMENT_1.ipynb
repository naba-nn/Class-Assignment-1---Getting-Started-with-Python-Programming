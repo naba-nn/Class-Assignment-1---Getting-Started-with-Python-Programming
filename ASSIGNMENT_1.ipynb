{
  "nbformat": 4,
  "nbformat_minor": 0,
  "metadata": {
    "colab": {
      "name": "ASSIGNMENT 1",
      "provenance": [],
      "authorship_tag": "ABX9TyO7olRE4mmi/KY+V8/Mel74",
      "include_colab_link": true
    },
    "kernelspec": {
      "name": "python3",
      "display_name": "Python 3"
    }
  },
  "cells": [
    {
      "cell_type": "markdown",
      "metadata": {
        "id": "view-in-github",
        "colab_type": "text"
      },
      "source": [
        "<a href=\"https://colab.research.google.com/github/naba-nn/Class-Assignment-1---Getting-Started-with-Python-Programming/blob/master/ASSIGNMENT_1.ipynb\" target=\"_parent\"><img src=\"https://colab.research.google.com/assets/colab-badge.svg\" alt=\"Open In Colab\"/></a>"
      ]
    },
    {
      "cell_type": "code",
      "metadata": {
        "id": "793vB5rKGxFo",
        "colab_type": "code",
        "colab": {}
      },
      "source": [
        ""
      ],
      "execution_count": null,
      "outputs": []
    },
    {
      "cell_type": "markdown",
      "metadata": {
        "id": "8eqcV6zHG5RP",
        "colab_type": "text"
      },
      "source": [
        "Question 2"
      ]
    },
    {
      "cell_type": "code",
      "metadata": {
        "id": "T9TiGR9TG7qM",
        "colab_type": "code",
        "colab": {
          "base_uri": "https://localhost:8080/",
          "height": 68
        },
        "outputId": "1354973f-19c5-45ca-b4d6-07b25b450ac1"
      },
      "source": [
        "Name =\"Nafeesa Naba\"\n",
        "Address =\"Udma, Kasaragod\"\n",
        "Phone =\"9188576646\"\n",
        "print(\"Name:\"+Name+\"\\n\",\"Address:\"+Address+\"\\n\", \"Phone:\"+Phone)"
      ],
      "execution_count": null,
      "outputs": [
        {
          "output_type": "stream",
          "text": [
            "Name:Nafeesa Naba\n",
            " Address:Udma, Kasaragod\n",
            " Phone:9188576646\n"
          ],
          "name": "stdout"
        }
      ]
    },
    {
      "cell_type": "markdown",
      "metadata": {
        "id": "6SJ1oMelS5IY",
        "colab_type": "text"
      },
      "source": [
        "Question 3"
      ]
    },
    {
      "cell_type": "code",
      "metadata": {
        "id": "7RIaRkEyHhYH",
        "colab_type": "code",
        "colab": {
          "base_uri": "https://localhost:8080/",
          "height": 34
        },
        "outputId": "18b42b98-54d7-4328-c5c1-af56194c6422"
      },
      "source": [
        "print(\"Your Name is\",Name)\n",
        "Name=\"Nafeesa Naba\""
      ],
      "execution_count": null,
      "outputs": [
        {
          "output_type": "stream",
          "text": [
            "Your Name is Nafeesa Naba\n"
          ],
          "name": "stdout"
        }
      ]
    },
    {
      "cell_type": "markdown",
      "metadata": {
        "id": "osjDsr_DTKUV",
        "colab_type": "text"
      },
      "source": [
        "Question 4"
      ]
    },
    {
      "cell_type": "code",
      "metadata": {
        "id": "K7dngs-wTYk6",
        "colab_type": "code",
        "colab": {
          "base_uri": "https://localhost:8080/",
          "height": 68
        },
        "outputId": "d0615387-2881-41d4-c9d7-64f74dbf0ae8"
      },
      "source": [
        "#area of a rectangle\n",
        "Width = float(input(\"Enter the width: \"))\n",
        "Height= float(input(\"Enter the height: \"))\n",
        "area = Width*Height\n",
        "print(\"The area is\", area, \"square units\")"
      ],
      "execution_count": null,
      "outputs": [
        {
          "output_type": "stream",
          "text": [
            "Enter the width: 2\n",
            "Enter the height: 4\n",
            "The area is 8.0 square units\n"
          ],
          "name": "stdout"
        }
      ]
    },
    {
      "cell_type": "markdown",
      "metadata": {
        "id": "0m4jD92DT80q",
        "colab_type": "text"
      },
      "source": [
        "Question 5"
      ]
    },
    {
      "cell_type": "code",
      "metadata": {
        "id": "BlpcA4JDWOnX",
        "colab_type": "code",
        "colab": {
          "base_uri": "https://localhost:8080/",
          "height": 88
        },
        "outputId": "3d6e0254-df1e-42da-db5a-c118f9ac8e72"
      },
      "source": [
        "#area of a triangle \n",
        "Base = float(input(\"Enter the width:\"))\n",
        "Height = float(input(\"Enter the height:\"))\n",
        "area=0.5*Base*Height \n",
        "print(\"The area of the triangle is\",area, \"square units\")"
      ],
      "execution_count": 31,
      "outputs": [
        {
          "output_type": "stream",
          "text": [
            "Enter the width:4\n",
            "Enter the height:6\n",
            "The area of the triangle is 12.0 square units\n"
          ],
          "name": "stdout"
        }
      ]
    },
    {
      "cell_type": "markdown",
      "metadata": {
        "id": "Tk-0utZvWyMJ",
        "colab_type": "text"
      },
      "source": [
        "Question 6"
      ]
    },
    {
      "cell_type": "code",
      "metadata": {
        "id": "trWGu9ovW0o6",
        "colab_type": "code",
        "colab": {
          "base_uri": "https://localhost:8080/",
          "height": 71
        },
        "outputId": "aacdabcd-639a-4a72-f3ed-b06cf3d78585"
      },
      "source": [
        "#area of a circle\n",
        "radius = float(input(\"Enter the radius: \"))\n",
        "area = 3.14*radius**2\n",
        "print(\"The area of the circle is\", area, \"square units\")"
      ],
      "execution_count": 32,
      "outputs": [
        {
          "output_type": "stream",
          "text": [
            "Enter the radius: 30\n",
            "The area of the circle is 2826.0 square units\n"
          ],
          "name": "stdout"
        }
      ]
    },
    {
      "cell_type": "markdown",
      "metadata": {
        "id": "GEtSldxuXaLk",
        "colab_type": "text"
      },
      "source": [
        "Question 7"
      ]
    },
    {
      "cell_type": "code",
      "metadata": {
        "id": "wOFF8PcTXd8f",
        "colab_type": "code",
        "colab": {
          "base_uri": "https://localhost:8080/",
          "height": 88
        },
        "outputId": "a3912baf-9453-4e07-b5dc-8742188b307b"
      },
      "source": [
        "Name = input(\"Enter your name : \")\n",
        "Age = input(\"Enter your age: \")\n",
        "print(\"My name is \"+Name+\" and I am \"+Age+\" years old\")"
      ],
      "execution_count": 34,
      "outputs": [
        {
          "output_type": "stream",
          "text": [
            "Enter your name : Nafeesa Naba\n",
            "Enter your age: 19\n",
            "My name is Nafeesa Naba and I am 19 years old\n"
          ],
          "name": "stdout"
        }
      ]
    },
    {
      "cell_type": "markdown",
      "metadata": {
        "id": "-H8hYW_uYDe-",
        "colab_type": "text"
      },
      "source": [
        "Question 8"
      ]
    },
    {
      "cell_type": "code",
      "metadata": {
        "id": "7ltlteXgYHLx",
        "colab_type": "code",
        "colab": {
          "base_uri": "https://localhost:8080/",
          "height": 51
        },
        "outputId": "f0ccde1c-3c8c-4e7a-a119-12df22b5a769"
      },
      "source": [
        "a = int(input(\"Enter a number: \"))\n",
        "a=a+1\n",
        "print(a)"
      ],
      "execution_count": 35,
      "outputs": [
        {
          "output_type": "stream",
          "text": [
            "Enter a number: 8\n",
            "9\n"
          ],
          "name": "stdout"
        }
      ]
    },
    {
      "cell_type": "markdown",
      "metadata": {
        "id": "J6dNzDzsYd26",
        "colab_type": "text"
      },
      "source": [
        "Question 9"
      ]
    },
    {
      "cell_type": "code",
      "metadata": {
        "id": "0yrzriDUYfgc",
        "colab_type": "code",
        "colab": {
          "base_uri": "https://localhost:8080/",
          "height": 51
        },
        "outputId": "3b655218-14b1-4f79-9fbb-fbf69b1d4a41"
      },
      "source": [
        "Name =input(\"Enter your first name: \")\n",
        "print(Name)"
      ],
      "execution_count": 36,
      "outputs": [
        {
          "output_type": "stream",
          "text": [
            "Enter your first name: Nafeesa\n",
            "Nafeesa\n"
          ],
          "name": "stdout"
        }
      ]
    },
    {
      "cell_type": "code",
      "metadata": {
        "id": "FAWsIy-yYukt",
        "colab_type": "code",
        "colab": {
          "base_uri": "https://localhost:8080/",
          "height": 52
        },
        "outputId": "1a8b83a9-f8b3-42e7-edb7-e0dbe1d71917"
      },
      "source": [
        "input(\"Enter your first name: \")"
      ],
      "execution_count": 37,
      "outputs": [
        {
          "output_type": "stream",
          "text": [
            "Enter your first name: Nafeesa\n"
          ],
          "name": "stdout"
        },
        {
          "output_type": "execute_result",
          "data": {
            "application/vnd.google.colaboratory.intrinsic+json": {
              "type": "string"
            },
            "text/plain": [
              "'Nafeesa'"
            ]
          },
          "metadata": {
            "tags": []
          },
          "execution_count": 37
        }
      ]
    }
  ]
}